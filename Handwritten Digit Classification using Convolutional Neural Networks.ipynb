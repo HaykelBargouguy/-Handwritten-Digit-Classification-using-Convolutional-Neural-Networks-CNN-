{
  "cells": [
    {
      "cell_type": "markdown",
      "metadata": {
        "id": "JCY7Mg3z-Sk6"
      },
      "source": [
        "# Imports \n"
      ]
    },
    {
      "cell_type": "code",
      "execution_count": null,
      "metadata": {
        "id": "q6Lhe-wut8Os"
      },
      "outputs": [],
      "source": [
        "import numpy as np\n",
        "from tensorflow.keras.datasets import mnist\n",
        "from tensorflow.keras.utils import to_categorical\n",
        "from tensorflow.keras import backend as K\n",
        "from tensorflow.keras.models import Sequential\n",
        "from tensorflow.keras.layers import Dense, Dropout, Flatten\n",
        "from tensorflow.keras.layers import Conv2D, MaxPooling2D\n",
        "\n",
        "\n",
        "K.set_image_data_format('channels_first')\n",
        "\n",
        "seed = 7\n",
        "np.random.seed(seed)"
      ]
    },
    {
      "cell_type": "code",
      "execution_count": null,
      "metadata": {
        "id": "1MzId-eHvFxg"
      },
      "outputs": [],
      "source": [
        "def get_data_mnist():\n",
        "    (X_train, y_train), (X_test, y_test) = mnist.load_data()\n",
        "\n",
        "    X_train = X_train.reshape(X_train.shape[0], 1, 28, 28).astype('float32')\n",
        "    X_test = X_test.reshape(X_test.shape[0], 1, 28, 28).astype('float32')\n",
        "\n",
        "    X_train /= 255.0\n",
        "    X_test /= 255.0\n",
        "\n",
        "    y_train = to_categorical(y_train)\n",
        "    y_test = to_categorical(y_test)\n",
        "    num_classes = y_test.shape[1]\n",
        "\n",
        "    return (X_train, y_train), (X_test, y_test), num_classes"
      ]
    },
    {
      "cell_type": "code",
      "execution_count": null,
      "metadata": {
        "colab": {
          "base_uri": "https://localhost:8080/"
        },
        "id": "uxzvSMBwvzXv",
        "outputId": "3684bdc2-dd3c-44c2-cb87-e9c2df62ec72"
      },
      "outputs": [
        {
          "name": "stdout",
          "output_type": "stream",
          "text": [
            "Downloading data from https://storage.googleapis.com/tensorflow/tf-keras-datasets/mnist.npz\n",
            "11490434/11490434 [==============================] - 0s 0us/step\n"
          ]
        }
      ],
      "source": [
        "(X_train, y_train), (X_test, y_test), num_classes = get_data_mnist()"
      ]
    },
    {
      "cell_type": "code",
      "execution_count": null,
      "metadata": {
        "id": "dWSmY71zv6x5"
      },
      "outputs": [],
      "source": [
        "from keras.models import Sequential\n",
        "from keras.layers import Conv2D, Flatten, Dense\n",
        "\n",
        "def small_model(num_classes):\n",
        "    model = Sequential()\n",
        "\n",
        "\n",
        "    model.add(Conv2D(64, (3, 3), input_shape=(1, 28, 28), activation='relu'))\n",
        "\n",
        "\n",
        "    model.add(Conv2D(32, (3, 3), activation='relu'))\n",
        "\n",
        "    model.add(Flatten())\n",
        "\n",
        "    model.add(Dense(num_classes, activation='softmax'))\n",
        "\n",
        "\n",
        "    model.compile(loss='categorical_crossentropy', optimizer='adam', metrics=['accuracy'])\n",
        "\n",
        "    return model\n"
      ]
    },
    {
      "cell_type": "code",
      "execution_count": null,
      "metadata": {
        "colab": {
          "base_uri": "https://localhost:8080/"
        },
        "id": "cljXUxBkxoL3",
        "outputId": "cdf8d1a5-8aeb-4a40-f321-c561cf601d5a"
      },
      "outputs": [
        {
          "name": "stdout",
          "output_type": "stream",
          "text": [
            "Model: \"sequential\"\n",
            "_________________________________________________________________\n",
            " Layer (type)                Output Shape              Param #   \n",
            "=================================================================\n",
            " conv2d (Conv2D)             (None, 64, 26, 26)        640       \n",
            "                                                                 \n",
            " conv2d_1 (Conv2D)           (None, 32, 24, 24)        18464     \n",
            "                                                                 \n",
            " flatten (Flatten)           (None, 18432)             0         \n",
            "                                                                 \n",
            " dense (Dense)               (None, 10)                184330    \n",
            "                                                                 \n",
            "=================================================================\n",
            "Total params: 203434 (794.66 KB)\n",
            "Trainable params: 203434 (794.66 KB)\n",
            "Non-trainable params: 0 (0.00 Byte)\n",
            "_________________________________________________________________\n"
          ]
        }
      ],
      "source": [
        "model = small_model(num_classes = 10)\n",
        "model.summary()"
      ]
    },
    {
      "cell_type": "code",
      "execution_count": null,
      "metadata": {
        "colab": {
          "base_uri": "https://localhost:8080/"
        },
        "id": "yQ6T3RcJytme",
        "outputId": "3a0a1663-8d33-4cf0-9a35-d6c7dfef7d85"
      },
      "outputs": [
        {
          "name": "stdout",
          "output_type": "stream",
          "text": [
            "Epoch 1/10\n",
            "300/300 [==============================] - 7s 10ms/step - loss: 0.2281 - accuracy: 0.9348 - val_loss: 0.0754 - val_accuracy: 0.9766\n",
            "Epoch 2/10\n",
            "300/300 [==============================] - 3s 9ms/step - loss: 0.0671 - accuracy: 0.9804 - val_loss: 0.0546 - val_accuracy: 0.9829\n",
            "Epoch 3/10\n",
            "300/300 [==============================] - 3s 9ms/step - loss: 0.0479 - accuracy: 0.9855 - val_loss: 0.0459 - val_accuracy: 0.9842\n",
            "Epoch 4/10\n",
            "300/300 [==============================] - 3s 9ms/step - loss: 0.0347 - accuracy: 0.9895 - val_loss: 0.0406 - val_accuracy: 0.9875\n",
            "Epoch 5/10\n",
            "300/300 [==============================] - 3s 9ms/step - loss: 0.0272 - accuracy: 0.9919 - val_loss: 0.0407 - val_accuracy: 0.9868\n",
            "Epoch 6/10\n",
            "300/300 [==============================] - 3s 11ms/step - loss: 0.0202 - accuracy: 0.9940 - val_loss: 0.0465 - val_accuracy: 0.9850\n",
            "Epoch 7/10\n",
            "300/300 [==============================] - 3s 9ms/step - loss: 0.0160 - accuracy: 0.9948 - val_loss: 0.0462 - val_accuracy: 0.9872\n",
            "Epoch 8/10\n",
            "300/300 [==============================] - 3s 9ms/step - loss: 0.0129 - accuracy: 0.9961 - val_loss: 0.0499 - val_accuracy: 0.9857\n",
            "Epoch 9/10\n",
            "300/300 [==============================] - 3s 9ms/step - loss: 0.0104 - accuracy: 0.9967 - val_loss: 0.0512 - val_accuracy: 0.9865\n",
            "Epoch 10/10\n",
            "300/300 [==============================] - 3s 10ms/step - loss: 0.0076 - accuracy: 0.9977 - val_loss: 0.0575 - val_accuracy: 0.9857\n"
          ]
        }
      ],
      "source": [
        "history = model.fit(X_train, y_train, validation_data=(X_test, y_test), epochs=10, batch_size=200)"
      ]
    },
    {
      "cell_type": "code",
      "execution_count": null,
      "metadata": {
        "id": "ShJVehR4y46O"
      },
      "outputs": [],
      "source": [
        "def print_model_error_rate(model, X_test, y_test):\n",
        "    scores = model.evaluate(X_test, y_test, verbose=0)\n",
        "    print(\"Model score : %.2f%%\" % (scores[1] * 100))\n",
        "    print(\"Model error rate : %.2f%%\" % (100 - scores[1] * 100))"
      ]
    },
    {
      "cell_type": "code",
      "execution_count": null,
      "metadata": {
        "colab": {
          "base_uri": "https://localhost:8080/"
        },
        "id": "n7005wvuzg6w",
        "outputId": "47188d86-1395-4f60-f7c9-d541e88fc9ae"
      },
      "outputs": [
        {
          "name": "stdout",
          "output_type": "stream",
          "text": [
            "Model score : 98.57%\n",
            "Model error rate : 1.43%\n"
          ]
        }
      ],
      "source": [
        "print_model_error_rate(model, X_test, y_test)"
      ]
    },
    {
      "cell_type": "code",
      "execution_count": null,
      "metadata": {
        "colab": {
          "base_uri": "https://localhost:8080/"
        },
        "id": "2y6um1bf0CT6",
        "outputId": "663042c0-c2f7-43cb-abfe-6e1a34ea953b"
      },
      "outputs": [
        {
          "name": "stdout",
          "output_type": "stream",
          "text": [
            "1/1 [==============================] - 0s 18ms/step\n",
            "Predicted class: [3]\n"
          ]
        }
      ],
      "source": [
        "import numpy as np\n",
        "from keras.models import load_model\n",
        "from keras.preprocessing import image\n",
        "from keras.preprocessing.image import load_img, img_to_array\n",
        "\n",
        "def load_and_prepare_image(filepath):\n",
        "    img = load_img(filepath, color_mode='grayscale', target_size=(28, 28))\n",
        "\n",
        "    img_array = img_to_array(img)\n",
        "\n",
        "    img_array /= 255.0\n",
        "\n",
        "\n",
        "    img_array = np.expand_dims(img_array, axis=0)\n",
        "\n",
        "    return img_array\n",
        "\n",
        "def predict_image(model, img_array):\n",
        "    prediction = model.predict(img_array)\n",
        "\n",
        "    predicted_class = np.argmax(prediction, axis=1)\n",
        "\n",
        "    return predicted_class\n",
        "\n",
        "\n",
        "image_path = '/content/test_image.jpeg'\n",
        "#image_path = '/content/paint_test1.png'\n",
        "\n",
        "img_array = load_and_prepare_image(image_path)\n",
        "\n",
        "\n",
        "predicted_class = predict_image(model, img_array)\n",
        "print(\"Predicted class:\", predicted_class)"
      ]
    },
    {
      "cell_type": "code",
      "execution_count": null,
      "metadata": {
        "colab": {
          "base_uri": "https://localhost:8080/",
          "height": 442
        },
        "id": "H-fPpaby1beN",
        "outputId": "0ab74ad0-3055-4187-fdbc-926dd7d025ae"
      },
      "outputs": [
        {
          "data": {
            "image/png": "[encoded data removed]",
            "text/plain": [
              "<Figure size 640x480 with 1 Axes>"
            ]
          },
          "metadata": {},
          "output_type": "display_data"
        },
        {
          "name": "stdout",
          "output_type": "stream",
          "text": [
            "1/1 [==============================] - 0s 29ms/step\n",
            "Predicted class: [3]\n"
          ]
        }
      ],
      "source": [
        "import numpy as np\n",
        "import matplotlib.pyplot as plt\n",
        "from keras.models import load_model\n",
        "from keras.preprocessing.image import load_img, img_to_array\n",
        "\n",
        "def load_and_visualize_image(filepath):\n",
        "    img = load_img(filepath, color_mode='grayscale', target_size=(28, 28))\n",
        "\n",
        "    plt.imshow(img, cmap='gray')\n",
        "    plt.axis('off')\n",
        "    plt.show()\n",
        "\n",
        "    img_array = img_to_array(img)\n",
        "\n",
        "    img_array /= 255.0\n",
        "\n",
        "    img_array = np.expand_dims(img_array, axis=0)\n",
        "\n",
        "    return img_array\n",
        "\n",
        "def predict_image(model, img_array):\n",
        "    prediction = model.predict(img_array)\n",
        "\n",
        "    predicted_class = np.argmax(prediction, axis=1)\n",
        "\n",
        "    return predicted_class\n",
        "\n",
        "\n",
        "image_path = '/content/test_image.jpeg'\n",
        "\n",
        "img_array = load_and_visualize_image(image_path)\n",
        "\n",
        "# Prédire l'image\n",
        "predicted_class = predict_image(model, img_array)\n",
        "print(\"Predicted class:\", predicted_class)\n"
      ]
    },
    {
      "cell_type": "code",
      "execution_count": 31,
      "metadata": {
        "colab": {
          "base_uri": "https://localhost:8080/",
          "height": 442
        },
        "id": "sEJvMbes37tY",
        "outputId": "ca63b718-931c-4cda-a715-9013217c57c5"
      },
      "outputs": [
        {
          "data": {
            "image/png": "[encoded data removed]",
            "text/plain": [
              "<Figure size 640x480 with 1 Axes>"
            ]
          },
          "metadata": {},
          "output_type": "display_data"
        },
        {
          "name": "stdout",
          "output_type": "stream",
          "text": [
            "1/1 [==============================] - 0s 25ms/step\n",
            "Predicted class: [7]\n"
          ]
        }
      ],
      "source": [
        "import numpy as np\n",
        "import matplotlib.pyplot as plt\n",
        "from keras.models import load_model\n",
        "from keras.preprocessing.image import load_img, img_to_array\n",
        "\n",
        "def load_and_visualize_image(filepath):\n",
        "    img = load_img(filepath, color_mode='grayscale', target_size=(28, 28))\n",
        "\n",
        "    plt.imshow(img, cmap='gray')\n",
        "    plt.axis('off')\n",
        "    plt.show()\n",
        "\n",
        "    img_array = img_to_array(img)\n",
        "\n",
        "    img_array /= 255.0\n",
        "\n",
        "    img_array = np.expand_dims(img_array, axis=0)\n",
        "\n",
        "    return img_array\n",
        "\n",
        "def predict_image(model, img_array):\n",
        "    prediction = model.predict(img_array)\n",
        "\n",
        "    predicted_class = np.argmax(prediction, axis=1)\n",
        "\n",
        "    return predicted_class\n",
        "\n",
        "\n",
        "image_path = '/content/paint_test7.png'\n",
        "\n",
        "img_array = load_and_visualize_image(image_path)\n",
        "\n",
        "predicted_class = predict_image(model, img_array)\n",
        "print(\"Predicted class:\", predicted_class)"
      ]
    },
    {
      "cell_type": "code",
      "execution_count": null,
      "metadata": {
        "id": "SuRL68tm57yb"
      },
      "outputs": [],
      "source": []
    }
  ],
  "metadata": {
    "accelerator": "GPU",
    "colab": {
      "gpuType": "T4",
      "provenance": []
    },
    "kernelspec": {
      "display_name": "Python 3",
      "name": "python3"
    },
    "language_info": {
      "name": "python"
    }
  },
  "nbformat": 4,
  "nbformat_minor": 0
}
